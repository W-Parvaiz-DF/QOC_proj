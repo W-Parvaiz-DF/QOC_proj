{
 "cells": [
  {
   "cell_type": "code",
   "execution_count": 2,
   "metadata": {},
   "outputs": [],
   "source": [
    "from qutip import *\n",
    "#QuTiP control modules\n",
    "import qutip.control.pulseoptim as cpo\n",
    "import qutip.logging_utils as logging\n",
    "logger = logging.get_logger()\n",
    "#Set this to None or logging.WARN for 'quiet' execution\n",
    "log_level = logging.INFO\n",
    "\n",
    "\n",
    "%matplotlib inline\n",
    "import numpy as np\n",
    "import matplotlib.pyplot as plt\n",
    "import datetime\n",
    "import h5py"
   ]
  },
  {
   "cell_type": "code",
   "execution_count": 3,
   "metadata": {},
   "outputs": [
    {
     "name": "stderr",
     "output_type": "stream",
     "text": [
      "C:\\Users\\waqas\\Anaconda3\\envs\\qutip-env\\lib\\site-packages\\ipykernel\\ipkernel.py:287: DeprecationWarning: `should_run_async` will not call `transform_cell` automatically in the future. Please pass the result to `transformed_cell` argument and any exception that happen during thetransform in `preprocessing_exc_tuple` in IPython 7.17 and above.\n",
      "  and should_run_async(code)\n"
     ]
    },
    {
     "data": {
      "text/latex": [
       "Quantum object: dims = [[3], [3]], shape = (3, 3), type = oper, isherm = False\\begin{equation*}\\left(\\begin{array}{*{11}c}(0.974+0.002j) & (0.027+0.222j) & (-0.036+0.009j)\\\\(0.030+0.222j) & (0.892-0.233j) & (0.116+0.295j)\\\\(-0.036+0.010j) & (0.119+0.294j) & (0.830-0.458j)\\\\\\end{array}\\right)\\end{equation*}"
      ],
      "text/plain": [
       "Quantum object: dims = [[3], [3]], shape = (3, 3), type = oper, isherm = False\n",
       "Qobj data =\n",
       "[[ 0.97386906+0.00220554j  0.02694935+0.22244521j -0.03589719+0.00879961j]\n",
       " [ 0.02969902+0.22209468j  0.89159271-0.23321263j  0.11587788+0.29502293j]\n",
       " [-0.03567618+0.00965991j  0.11931038+0.29365146j  0.82969733-0.45800663j]]"
      ]
     },
     "metadata": {},
     "output_type": "display_data"
    }
   ],
   "source": [
    "U_targetsFile = h5py.File(\"U_targets.hdf5\", 'r')\n",
    "#Find a way to do this using rel path to the Results folder \n",
    "#rather than copy paste the file to this directory\n",
    "#Not import rn but do later\n",
    "\n",
    "U_targets = np.array(U_targetsFile[\"U_targets\"])\n",
    "\n",
    "\n",
    "# for i in range(U_targets.shape[2]):\n",
    "#     print(i)\n",
    "#     print(U_targets[:,:,i])\n",
    "#     print(\"===========\")\n",
    "\n",
    "#^ just for my understanding on how the U_targets are stored \n",
    "\n",
    "\n",
    "U_target_matrix1 = U_targets[:,:,0]\n",
    "\n",
    "U_targ_Qobj = Qobj(U_target_matrix1)\n",
    "\n",
    "\n"
   ]
  },
  {
   "cell_type": "code",
   "execution_count": 3,
   "metadata": {},
   "outputs": [
    {
     "name": "stderr",
     "output_type": "stream",
     "text": [
      "C:\\Users\\waqas\\Anaconda3\\envs\\qutip-env\\lib\\site-packages\\ipykernel\\ipkernel.py:287: DeprecationWarning: `should_run_async` will not call `transform_cell` automatically in the future. Please pass the result to `transformed_cell` argument and any exception that happen during thetransform in `preprocessing_exc_tuple` in IPython 7.17 and above.\n",
      "  and should_run_async(code)\n"
     ]
    }
   ],
   "source": [
    "\n",
    "H_drift_matrix = np.array([[0,0,0],\n",
    "                           [0,0.515916, 0],\n",
    "                           [0,0,1]])\n",
    "H_control_matrix = np.array([[0,1/np.sqrt(2), 0],\n",
    "                             [1/np.sqrt(2),0,0],\n",
    "                             [0, 1, 0]])\n",
    "\n",
    "H_drift = Qobj(H_drift_matrix)\n",
    "H_control = [Qobj(H_control_matrix)] \n",
    " \n",
    "\n",
    "# Unitary starting point\n",
    "U_0 = qeye(3)\n"
   ]
  },
  {
   "cell_type": "markdown",
   "metadata": {},
   "source": [
    "# pulseoptim Method"
   ]
  },
  {
   "cell_type": "code",
   "execution_count": 4,
   "metadata": {},
   "outputs": [
    {
     "name": "stderr",
     "output_type": "stream",
     "text": [
      "C:\\Users\\waqas\\Anaconda3\\envs\\qutip-env\\lib\\site-packages\\ipykernel\\ipkernel.py:287: DeprecationWarning: `should_run_async` will not call `transform_cell` automatically in the future. Please pass the result to `transformed_cell` argument and any exception that happen during thetransform in `preprocessing_exc_tuple` in IPython 7.17 and above.\n",
      "  and should_run_async(code)\n"
     ]
    }
   ],
   "source": [
    "# Just for now choosing constant time pulses\n",
    "#also just choosing arbitary values for now\n",
    "\n",
    "# Number of time slots\n",
    "n_ts = 10\n",
    "# Time allowed for the evolution\n",
    "evo_time = 1\n",
    "\n",
    "\n",
    "# Fidelity error target\n",
    "fid_err_targ = 1e-10\n",
    "# Maximum iterations for the optisation algorithm\n",
    "max_iter = 200\n",
    "# Maximum (elapsed) time allowed in seconds\n",
    "max_wall_time = 120\n",
    "# Minimum gradient (sum of gradients squared)\n",
    "# as this tends to 0 -> local minima has been found\n",
    "min_grad = 1e-20\n",
    "\n",
    "# pulse type alternatives: RND|ZERO|LIN|SINE|SQUARE|SAW|TRIANGLE|\n",
    "p_type = 'RND' "
   ]
  },
  {
   "cell_type": "code",
   "execution_count": 44,
   "metadata": {},
   "outputs": [
    {
     "name": "stderr",
     "output_type": "stream",
     "text": [
      "C:\\Users\\waqas\\Anaconda3\\envs\\qutip-env\\lib\\site-packages\\ipykernel\\ipkernel.py:287: DeprecationWarning: `should_run_async` will not call `transform_cell` automatically in the future. Please pass the result to `transformed_cell` argument and any exception that happen during thetransform in `preprocessing_exc_tuple` in IPython 7.17 and above.\n",
      "  and should_run_async(code)\n",
      "INFO:qutip.control.dynamics:Setting memory optimisations for level 0\n",
      "INFO:qutip.control.dynamics:Internal operator data type choosen to be <class 'numpy.ndarray'>\n",
      "INFO:qutip.control.dynamics:phased dynamics generator caching True\n",
      "INFO:qutip.control.dynamics:propagator gradient caching True\n",
      "INFO:qutip.control.dynamics:eigenvector adjoint caching True\n",
      "INFO:qutip.control.dynamics:use sparse eigen decomp False\n",
      "INFO:qutip.control.pulseoptim:System configuration:\n",
      "Drift Hamiltonian:\n",
      "Quantum object: dims = [[3], [3]], shape = (3, 3), type = oper, isherm = True\n",
      "Qobj data =\n",
      "[[0.       0.       0.      ]\n",
      " [0.       0.515916 0.      ]\n",
      " [0.       0.       1.      ]]\n",
      "Control 1 Hamiltonian:\n",
      "Quantum object: dims = [[3], [3]], shape = (3, 3), type = oper, isherm = False\n",
      "Qobj data =\n",
      "[[0.         0.70710678 0.        ]\n",
      " [0.70710678 0.         0.        ]\n",
      " [0.         1.         0.        ]]\n",
      "Initial state / operator:\n",
      "Quantum object: dims = [[3], [3]], shape = (3, 3), type = oper, isherm = True\n",
      "Qobj data =\n",
      "[[1. 0. 0.]\n",
      " [0. 1. 0.]\n",
      " [0. 0. 1.]]\n",
      "Target state / operator:\n",
      "Quantum object: dims = [[3], [3]], shape = (3, 3), type = oper, isherm = False\n",
      "Qobj data =\n",
      "[[ 0.98551494+0.00122666j -0.02081607-0.16704989j -0.01987696+0.00497284j]\n",
      " [-0.02208201-0.16688723j  0.92515738-0.24297083j -0.08745001-0.22150063j]\n",
      " [-0.01980193+0.00526483j -0.08902741-0.22087132j  0.85103647-0.46755434j]]\n",
      "INFO:qutip.control.optimizer:Optimising pulse(s) using GRAPE with 'fmin_l_bfgs_b' method\n"
     ]
    }
   ],
   "source": [
    "\n",
    "\n",
    "result = cpo.optimize_pulse_unitary(H_drift, H_control, U_0, U_targ_Qobj, n_ts, evo_time, \n",
    "                fid_err_targ=fid_err_targ, min_grad=min_grad, \n",
    "                max_iter=max_iter, max_wall_time=max_wall_time, \n",
    "                init_pulse_type=p_type, \n",
    "                log_level=log_level, gen_stats=True)\n"
   ]
  },
  {
   "cell_type": "code",
   "execution_count": 45,
   "metadata": {},
   "outputs": [
    {
     "name": "stdout",
     "output_type": "stream",
     "text": [
      "\n",
      "------------------------------------\n",
      "---- Control optimisation stats ----\n",
      "**** Timings (HH:MM:SS.US) ****\n",
      "Total wall time elapsed during optimisation: 0:00:00.109680\n",
      "Wall time computing Hamiltonians: 0:00:00.003673 (3.35%)\n",
      "Wall time computing propagators: 0:00:00.074633 (68.05%)\n",
      "Wall time computing forward propagation: 0:00:00.001044 (0.95%)\n",
      "Wall time computing onward propagation: 0:00:00.000916 (0.84%)\n",
      "Wall time computing gradient: 0:00:00.005677 (5.18%)\n",
      "\n",
      "**** Iterations and function calls ****\n",
      "Number of iterations: 19\n",
      "Number of fidelity function calls: 36\n",
      "Number of times fidelity is computed: 36\n",
      "Number of gradient function calls: 36\n",
      "Number of times gradients are computed: 36\n",
      "Number of times timeslot evolution is recomputed: 36\n",
      "\n",
      "**** Control amplitudes ****\n",
      "Number of control amplitude updates: 35\n",
      "Mean number of updates per iteration: 1.8421052631578947\n",
      "Number of timeslot values changed: 344\n",
      "Mean number of timeslot changes per update: 9.82857142857143\n",
      "Number of amplitude values changed: 344\n",
      "Mean number of amplitude changes per update: 9.82857142857143\n",
      "------------------------------------\n",
      "Final evolution\n",
      "Quantum object: dims = [[3], [3]], shape = (3, 3), type = oper, isherm = False\n",
      "Qobj data =\n",
      "[[ 0.95752055-0.21467177j -0.05448179-0.17582223j -0.04983358-0.02655795j]\n",
      " [-0.10176785-0.15688958j  0.78995233-0.53773884j -0.15920321-0.16277456j]\n",
      " [-0.02914641-0.03535367j -0.1216775 -0.19525656j  0.7462141 -0.62300448j]]\n",
      "\n",
      "********* Summary *****************\n",
      "Final fidelity error 0.003246320573200956\n",
      "Final gradient normal 0.0004216164914017337\n",
      "Terminated due to function converged\n",
      "Number of iterations 19\n",
      "Completed in 0:00:00.109680 HH:MM:SS.US\n"
     ]
    },
    {
     "name": "stderr",
     "output_type": "stream",
     "text": [
      "C:\\Users\\waqas\\Anaconda3\\envs\\qutip-env\\lib\\site-packages\\ipykernel\\ipkernel.py:287: DeprecationWarning: `should_run_async` will not call `transform_cell` automatically in the future. Please pass the result to `transformed_cell` argument and any exception that happen during thetransform in `preprocessing_exc_tuple` in IPython 7.17 and above.\n",
      "  and should_run_async(code)\n"
     ]
    }
   ],
   "source": [
    "result.stats.report()\n",
    "print(\"Final evolution\\n{}\\n\".format(result.evo_full_final))\n",
    "print(\"********* Summary *****************\")\n",
    "print(\"Final fidelity error {}\".format(result.fid_err))\n",
    "print(\"Final gradient normal {}\".format(result.grad_norm_final))\n",
    "print(\"Terminated due to {}\".format(result.termination_reason))\n",
    "print(\"Number of iterations {}\".format(result.num_iter))\n",
    "print(\"Completed in {} HH:MM:SS.US\".format(\n",
    "        datetime.timedelta(seconds=result.wall_time)))"
   ]
  },
  {
   "cell_type": "code",
   "execution_count": 62,
   "metadata": {},
   "outputs": [
    {
     "name": "stderr",
     "output_type": "stream",
     "text": [
      "C:\\Users\\waqas\\Anaconda3\\envs\\qutip-env\\lib\\site-packages\\ipykernel\\ipkernel.py:287: DeprecationWarning: `should_run_async` will not call `transform_cell` automatically in the future. Please pass the result to `transformed_cell` argument and any exception that happen during thetransform in `preprocessing_exc_tuple` in IPython 7.17 and above.\n",
      "  and should_run_async(code)\n"
     ]
    },
    {
     "data": {
      "image/png": "[encoded data removed]",
      "text/plain": [
       "<Figure size 432x288 with 1 Axes>"
      ]
     },
     "metadata": {
      "needs_background": "light"
     },
     "output_type": "display_data"
    }
   ],
   "source": [
    "plt.figure()\n",
    "plt.plot(result.time[1:], result.final_amps[:,0])\n",
    "plt.title(\"Optimised Control Sequences\")\n",
    "plt.xlabel(\"Time\")\n",
    "plt.ylabel(\"Control amplitude\")\n",
    "# ax1.step(result.time,\n",
    "#          np.hstack((result.final_amps[:, 0], result.final_amps[-1, 0])),\n",
    "#          where='post')\n",
    "plt.tight_layout()\n",
    "plt.show()"
   ]
  },
  {
   "cell_type": "code",
   "execution_count": 8,
   "metadata": {},
   "outputs": [
    {
     "name": "stderr",
     "output_type": "stream",
     "text": [
      "C:\\Users\\waqas\\Anaconda3\\envs\\qutip-env\\lib\\site-packages\\ipykernel\\ipkernel.py:287: DeprecationWarning: `should_run_async` will not call `transform_cell` automatically in the future. Please pass the result to `transformed_cell` argument and any exception that happen during thetransform in `preprocessing_exc_tuple` in IPython 7.17 and above.\n",
      "  and should_run_async(code)\n"
     ]
    },
    {
     "data": {
      "text/latex": [
       "Quantum object: dims = [[3], [3]], shape = (3, 3), type = oper, isherm = False\\begin{equation*}\\left(\\begin{array}{*{11}c}(0.986+0.001j) & (-0.021-0.167j) & (-0.020+0.005j)\\\\(-0.022-0.167j) & (0.925-0.243j) & (-0.087-0.222j)\\\\(-0.020+0.005j) & (-0.089-0.221j) & (0.851-0.468j)\\\\\\end{array}\\right)\\end{equation*}"
      ],
      "text/plain": [
       "Quantum object: dims = [[3], [3]], shape = (3, 3), type = oper, isherm = False\n",
       "Qobj data =\n",
       "[[ 0.98551494+0.00122666j -0.02081607-0.16704989j -0.01987696+0.00497284j]\n",
       " [-0.02208201-0.16688723j  0.92515738-0.24297083j -0.08745001-0.22150063j]\n",
       " [-0.01980193+0.00526483j -0.08902741-0.22087132j  0.85103647-0.46755434j]]"
      ]
     },
     "metadata": {},
     "output_type": "display_data"
    },
    {
     "data": {
      "text/latex": [
       "Quantum object: dims = [[3], [3]], shape = (3, 3), type = oper, isherm = False\\begin{equation*}\\left(\\begin{array}{*{11}c}(0.965-0.198j) & (-0.074-0.142j) & (-0.057-0.030j)\\\\(-0.058-0.153j) & (0.811-0.507j) & (-0.142-0.196j)\\\\(-0.028-0.045j) & (-0.161-0.184j) & (0.706-0.662j)\\\\\\end{array}\\right)\\end{equation*}"
      ],
      "text/plain": [
       "Quantum object: dims = [[3], [3]], shape = (3, 3), type = oper, isherm = False\n",
       "Qobj data =\n",
       "[[ 0.96495179-0.19798711j -0.07401776-0.14174909j -0.0567307 -0.02965365j]\n",
       " [-0.0580482 -0.15323295j  0.81104353-0.50665933j -0.14243061-0.19587831j]\n",
       " [-0.02754676-0.04539154j -0.16137272-0.18409816j  0.70642306-0.66197731j]]"
      ]
     },
     "execution_count": 8,
     "metadata": {},
     "output_type": "execute_result"
    }
   ],
   "source": [
    "display(U_targ_Qobj)\n",
    "result.evo_full_final"
   ]
  },
  {
   "cell_type": "code",
   "execution_count": 14,
   "metadata": {},
   "outputs": [
    {
     "name": "stderr",
     "output_type": "stream",
     "text": [
      "C:\\Users\\waqas\\Anaconda3\\envs\\qutip-env\\lib\\site-packages\\ipykernel\\ipkernel.py:287: DeprecationWarning: `should_run_async` will not call `transform_cell` automatically in the future. Please pass the result to `transformed_cell` argument and any exception that happen during thetransform in `preprocessing_exc_tuple` in IPython 7.17 and above.\n",
      "  and should_run_async(code)\n"
     ]
    },
    {
     "data": {
      "text/plain": [
       "0.0"
      ]
     },
     "execution_count": 14,
     "metadata": {},
     "output_type": "execute_result"
    }
   ],
   "source": [
    "result.fidelity  #why is this zero?"
   ]
  },
  {
   "cell_type": "code",
   "execution_count": 9,
   "metadata": {},
   "outputs": [
    {
     "name": "stderr",
     "output_type": "stream",
     "text": [
      "C:\\Users\\waqas\\Anaconda3\\envs\\qutip-env\\lib\\site-packages\\ipykernel\\ipkernel.py:287: DeprecationWarning: `should_run_async` will not call `transform_cell` automatically in the future. Please pass the result to `transformed_cell` argument and any exception that happen during thetransform in `preprocessing_exc_tuple` in IPython 7.17 and above.\n",
      "  and should_run_async(code)\n"
     ]
    },
    {
     "data": {
      "text/plain": [
       "['__class__',\n",
       " '__delattr__',\n",
       " '__dict__',\n",
       " '__dir__',\n",
       " '__doc__',\n",
       " '__eq__',\n",
       " '__format__',\n",
       " '__ge__',\n",
       " '__getattribute__',\n",
       " '__gt__',\n",
       " '__hash__',\n",
       " '__init__',\n",
       " '__init_subclass__',\n",
       " '__le__',\n",
       " '__lt__',\n",
       " '__module__',\n",
       " '__ne__',\n",
       " '__new__',\n",
       " '__reduce__',\n",
       " '__reduce_ex__',\n",
       " '__repr__',\n",
       " '__setattr__',\n",
       " '__sizeof__',\n",
       " '__str__',\n",
       " '__subclasshook__',\n",
       " '__weakref__',\n",
       " 'evo_full_final',\n",
       " 'evo_full_initial',\n",
       " 'fid_err',\n",
       " 'fidelity',\n",
       " 'final_amps',\n",
       " 'goal_achieved',\n",
       " 'grad_norm_final',\n",
       " 'grad_norm_min_reached',\n",
       " 'initial_amps',\n",
       " 'initial_fid_err',\n",
       " 'max_fid_func_exceeded',\n",
       " 'max_iter_exceeded',\n",
       " 'num_fid_func_calls',\n",
       " 'num_iter',\n",
       " 'optimizer',\n",
       " 'reset',\n",
       " 'stats',\n",
       " 'termination_reason',\n",
       " 'time',\n",
       " 'wall_time',\n",
       " 'wall_time_limit_exceeded']"
      ]
     },
     "execution_count": 9,
     "metadata": {},
     "output_type": "execute_result"
    }
   ],
   "source": [
    "dir(result)"
   ]
  },
  {
   "cell_type": "markdown",
   "metadata": {},
   "source": [
    "# control.grape METHOD"
   ]
  },
  {
   "cell_type": "code",
   "execution_count": 21,
   "metadata": {},
   "outputs": [
    {
     "name": "stderr",
     "output_type": "stream",
     "text": [
      "C:\\Users\\waqas\\Anaconda3\\envs\\qutip-env\\lib\\site-packages\\ipykernel\\ipkernel.py:287: DeprecationWarning: `should_run_async` will not call `transform_cell` automatically in the future. Please pass the result to `transformed_cell` argument and any exception that happen during thetransform in `preprocessing_exc_tuple` in IPython 7.17 and above.\n",
      "  and should_run_async(code)\n"
     ]
    }
   ],
   "source": [
    "from qutip.control import * \n",
    "from qutip.ui.progressbar import TextProgressBar"
   ]
  },
  {
   "cell_type": "code",
   "execution_count": 22,
   "metadata": {},
   "outputs": [
    {
     "name": "stderr",
     "output_type": "stream",
     "text": [
      "C:\\Users\\waqas\\Anaconda3\\envs\\qutip-env\\lib\\site-packages\\ipykernel\\ipkernel.py:287: DeprecationWarning: `should_run_async` will not call `transform_cell` automatically in the future. Please pass the result to `transformed_cell` argument and any exception that happen during thetransform in `preprocessing_exc_tuple` in IPython 7.17 and above.\n",
      "  and should_run_async(code)\n"
     ]
    }
   ],
   "source": [
    "times = np.linspace(0,1,10)\n",
    "n_iterations = 100\n",
    "\n",
    "\n"
   ]
  },
  {
   "cell_type": "code",
   "execution_count": 25,
   "metadata": {},
   "outputs": [
    {
     "name": "stderr",
     "output_type": "stream",
     "text": [
      "C:\\Users\\waqas\\Anaconda3\\envs\\qutip-env\\lib\\site-packages\\ipykernel\\ipkernel.py:287: DeprecationWarning: `should_run_async` will not call `transform_cell` automatically in the future. Please pass the result to `transformed_cell` argument and any exception that happen during thetransform in `preprocessing_exc_tuple` in IPython 7.17 and above.\n",
      "  and should_run_async(code)\n"
     ]
    },
    {
     "name": "stdout",
     "output_type": "stream",
     "text": [
      "10.0%. Run time:   0.46s. Est. time left: 00:00:00:04\n",
      "20.0%. Run time:   0.72s. Est. time left: 00:00:00:02\n",
      "30.0%. Run time:   1.00s. Est. time left: 00:00:00:02\n",
      "40.0%. Run time:   1.30s. Est. time left: 00:00:00:01\n",
      "50.0%. Run time:   1.63s. Est. time left: 00:00:00:01\n",
      "60.0%. Run time:   1.90s. Est. time left: 00:00:00:01\n",
      "70.0%. Run time:   2.17s. Est. time left: 00:00:00:00\n",
      "80.0%. Run time:   2.43s. Est. time left: 00:00:00:00\n",
      "90.0%. Run time:   2.72s. Est. time left: 00:00:00:00\n",
      "Total run time:   3.09s\n"
     ]
    }
   ],
   "source": [
    "resultGrape = cy_grape_unitary(U_targ_Qobj, H_drift, H_control, n_iterations, times, eps=2*np.pi/times[-1], phase_sensitive=False,\n",
    "                          progress_bar=TextProgressBar())\n"
   ]
  },
  {
   "cell_type": "code",
   "execution_count": 26,
   "metadata": {},
   "outputs": [
    {
     "name": "stderr",
     "output_type": "stream",
     "text": [
      "C:\\Users\\waqas\\Anaconda3\\envs\\qutip-env\\lib\\site-packages\\ipykernel\\ipkernel.py:287: DeprecationWarning: `should_run_async` will not call `transform_cell` automatically in the future. Please pass the result to `transformed_cell` argument and any exception that happen during thetransform in `preprocessing_exc_tuple` in IPython 7.17 and above.\n",
      "  and should_run_async(code)\n"
     ]
    },
    {
     "data": {
      "text/plain": [
       "['H_t',\n",
       " 'U_f',\n",
       " '__class__',\n",
       " '__delattr__',\n",
       " '__dict__',\n",
       " '__dir__',\n",
       " '__doc__',\n",
       " '__eq__',\n",
       " '__format__',\n",
       " '__ge__',\n",
       " '__getattribute__',\n",
       " '__gt__',\n",
       " '__hash__',\n",
       " '__init__',\n",
       " '__init_subclass__',\n",
       " '__le__',\n",
       " '__lt__',\n",
       " '__module__',\n",
       " '__ne__',\n",
       " '__new__',\n",
       " '__reduce__',\n",
       " '__reduce_ex__',\n",
       " '__repr__',\n",
       " '__setattr__',\n",
       " '__sizeof__',\n",
       " '__str__',\n",
       " '__subclasshook__',\n",
       " '__weakref__',\n",
       " 'u']"
      ]
     },
     "execution_count": 26,
     "metadata": {},
     "output_type": "execute_result"
    }
   ],
   "source": [
    "dir(resultGrape)"
   ]
  },
  {
   "cell_type": "code",
   "execution_count": 35,
   "metadata": {},
   "outputs": [
    {
     "name": "stderr",
     "output_type": "stream",
     "text": [
      "C:\\Users\\waqas\\Anaconda3\\envs\\qutip-env\\lib\\site-packages\\ipykernel\\ipkernel.py:287: DeprecationWarning: `should_run_async` will not call `transform_cell` automatically in the future. Please pass the result to `transformed_cell` argument and any exception that happen during thetransform in `preprocessing_exc_tuple` in IPython 7.17 and above.\n",
      "  and should_run_async(code)\n"
     ]
    },
    {
     "data": {
      "text/plain": [
       "(100, 1, 10)"
      ]
     },
     "execution_count": 35,
     "metadata": {},
     "output_type": "execute_result"
    }
   ],
   "source": [
    "\n",
    "resultGrape.u.shape\n"
   ]
  },
  {
   "cell_type": "code",
   "execution_count": 32,
   "metadata": {},
   "outputs": [
    {
     "name": "stderr",
     "output_type": "stream",
     "text": [
      "C:\\Users\\waqas\\Anaconda3\\envs\\qutip-env\\lib\\site-packages\\ipykernel\\ipkernel.py:287: DeprecationWarning: `should_run_async` will not call `transform_cell` automatically in the future. Please pass the result to `transformed_cell` argument and any exception that happen during thetransform in `preprocessing_exc_tuple` in IPython 7.17 and above.\n",
      "  and should_run_async(code)\n"
     ]
    },
    {
     "data": {
      "text/latex": [
       "Quantum object: dims = [[3], [3]], shape = (3, 3), type = oper, isherm = False\\begin{equation*}\\left(\\begin{array}{*{11}c}(0.986+0.001j) & (-0.021-0.167j) & (-0.020+0.005j)\\\\(-0.022-0.167j) & (0.925-0.243j) & (-0.087-0.222j)\\\\(-0.020+0.005j) & (-0.089-0.221j) & (0.851-0.468j)\\\\\\end{array}\\right)\\end{equation*}"
      ],
      "text/plain": [
       "Quantum object: dims = [[3], [3]], shape = (3, 3), type = oper, isherm = False\n",
       "Qobj data =\n",
       "[[ 0.98551494+0.00122666j -0.02081607-0.16704989j -0.01987696+0.00497284j]\n",
       " [-0.02208201-0.16688723j  0.92515738-0.24297083j -0.08745001-0.22150063j]\n",
       " [-0.01980193+0.00526483j -0.08902741-0.22087132j  0.85103647-0.46755434j]]"
      ]
     },
     "metadata": {},
     "output_type": "display_data"
    },
    {
     "data": {
      "text/latex": [
       "Quantum object: dims = [[3], [3]], shape = (3, 3), type = oper, isherm = False\\begin{equation*}\\left(\\begin{array}{*{11}c}(0.965-0.198j) & (-0.074-0.142j) & (-0.057-0.030j)\\\\(-0.058-0.153j) & (0.811-0.507j) & (-0.142-0.196j)\\\\(-0.028-0.045j) & (-0.161-0.184j) & (0.706-0.662j)\\\\\\end{array}\\right)\\end{equation*}"
      ],
      "text/plain": [
       "Quantum object: dims = [[3], [3]], shape = (3, 3), type = oper, isherm = False\n",
       "Qobj data =\n",
       "[[ 0.96495179-0.19798711j -0.07401776-0.14174909j -0.0567307 -0.02965365j]\n",
       " [-0.0580482 -0.15323295j  0.81104353-0.50665933j -0.14243061-0.19587831j]\n",
       " [-0.02754676-0.04539154j -0.16137272-0.18409816j  0.70642306-0.66197731j]]"
      ]
     },
     "metadata": {},
     "output_type": "display_data"
    },
    {
     "data": {
      "text/latex": [
       "Quantum object: dims = [[3], [3]], shape = (3, 3), type = oper, isherm = False\\begin{equation*}\\left(\\begin{array}{*{11}c}(0.944+0.008j) & (-0.094-0.315j) & 0.0\\\\(-0.073-0.320j) & (0.817-0.473j) & 0.0\\\\(-0.071+0.034j) & (-0.311-0.347j) & (0.540-0.841j)\\\\\\end{array}\\right)\\end{equation*}"
      ],
      "text/plain": [
       "Quantum object: dims = [[3], [3]], shape = (3, 3), type = oper, isherm = False\n",
       "Qobj data =\n",
       "[[ 0.94441379+0.00835595j -0.09442019-0.31479772j  0.        +0.j        ]\n",
       " [-0.07316916-0.32040451j  0.81736776-0.47317773j  0.        +0.j        ]\n",
       " [-0.07115839+0.03357048j -0.31076018-0.34660537j  0.54030231-0.84147098j]]"
      ]
     },
     "metadata": {},
     "output_type": "display_data"
    }
   ],
   "source": [
    "display(U_targ_Qobj)\n",
    "display(result.evo_full_final)\n",
    "display(resultGrape.U_f)\n",
    "\n",
    "\n",
    "\n"
   ]
  },
  {
   "cell_type": "code",
   "execution_count": 52,
   "metadata": {},
   "outputs": [
    {
     "name": "stderr",
     "output_type": "stream",
     "text": [
      "C:\\Users\\waqas\\Anaconda3\\envs\\qutip-env\\lib\\site-packages\\ipykernel\\ipkernel.py:287: DeprecationWarning: `should_run_async` will not call `transform_cell` automatically in the future. Please pass the result to `transformed_cell` argument and any exception that happen during thetransform in `preprocessing_exc_tuple` in IPython 7.17 and above.\n",
      "  and should_run_async(code)\n"
     ]
    },
    {
     "data": {
      "text/plain": [
       "array([[-4.66525828e+00],\n",
       "       [-1.61388063e+00],\n",
       "       [-4.13975217e-01],\n",
       "       [ 2.01060574e-03],\n",
       "       [ 4.75164385e+00],\n",
       "       [ 8.43961993e+00],\n",
       "       [ 8.78362839e+00],\n",
       "       [ 4.45243443e+00],\n",
       "       [-3.20636350e+00],\n",
       "       [-1.42505533e+01]])"
      ]
     },
     "metadata": {},
     "output_type": "display_data"
    },
    {
     "data": {
      "text/plain": [
       "array([0.        , 0.1       , 0.2       , 0.3       , 0.40000001,\n",
       "       0.50000001, 0.60000001, 0.70000001, 0.80000001, 0.90000001,\n",
       "       1.00000001])"
      ]
     },
     "metadata": {},
     "output_type": "display_data"
    }
   ],
   "source": [
    "display(result.final_amps)\n",
    "display(result.time)"
   ]
  },
  {
   "cell_type": "code",
   "execution_count": 63,
   "metadata": {},
   "outputs": [
    {
     "name": "stderr",
     "output_type": "stream",
     "text": [
      "C:\\Users\\waqas\\Anaconda3\\envs\\qutip-env\\lib\\site-packages\\ipykernel\\ipkernel.py:287: DeprecationWarning: `should_run_async` will not call `transform_cell` automatically in the future. Please pass the result to `transformed_cell` argument and any exception that happen during thetransform in `preprocessing_exc_tuple` in IPython 7.17 and above.\n",
      "  and should_run_async(code)\n"
     ]
    },
    {
     "data": {
      "text/plain": [
       "0.9967536750454057"
      ]
     },
     "metadata": {},
     "output_type": "display_data"
    },
    {
     "data": {
      "text/plain": [
       "0.9888206764090297"
      ]
     },
     "metadata": {},
     "output_type": "display_data"
    }
   ],
   "source": [
    "from qutip.control.grape import plot_grape_control_fields, _overlap\n",
    "display(abs(_overlap(U_targ_Qobj,result.evo_full_final)))\n",
    "display(abs(_overlap(U_targ_Qobj,resultGrape.U_f))) \n"
   ]
  },
  {
   "cell_type": "code",
   "execution_count": 71,
   "metadata": {},
   "outputs": [
    {
     "name": "stderr",
     "output_type": "stream",
     "text": [
      "C:\\Users\\waqas\\Anaconda3\\envs\\qutip-env\\lib\\site-packages\\ipykernel\\ipkernel.py:287: DeprecationWarning: `should_run_async` will not call `transform_cell` automatically in the future. Please pass the result to `transformed_cell` argument and any exception that happen during thetransform in `preprocessing_exc_tuple` in IPython 7.17 and above.\n",
      "  and should_run_async(code)\n"
     ]
    },
    {
     "data": {
      "text/plain": [
       "(<Figure size 576x144 with 1 Axes>,\n",
       " array([[<AxesSubplot:xlabel='$t$', ylabel='Control field Amplitude'>]],\n",
       "       dtype=object))"
      ]
     },
     "execution_count": 71,
     "metadata": {},
     "output_type": "execute_result"
    },
    {
     "data": {
      "image/png": "[encoded data removed]",
      "text/plain": [
       "<Figure size 576x144 with 1 Axes>"
      ]
     },
     "metadata": {
      "needs_background": "light"
     },
     "output_type": "display_data"
    }
   ],
   "source": [
    "\n",
    "#plot_grape_control_fields(result.time, result.final_amps, ['Control Field Amplitude'])\n",
    "plot_grape_control_fields(times, resultGrape.u, ['Control field Amplitude'])\n"
   ]
  },
  {
   "cell_type": "code",
   "execution_count": null,
   "metadata": {},
   "outputs": [],
   "source": []
  }
 ],
 "metadata": {
  "kernelspec": {
   "display_name": "Python 3",
   "language": "python",
   "name": "python3"
  },
  "language_info": {
   "codemirror_mode": {
    "name": "ipython",
    "version": 3
   },
   "file_extension": ".py",
   "mimetype": "text/x-python",
   "name": "python",
   "nbconvert_exporter": "python",
   "pygments_lexer": "ipython3",
   "version": "3.9.1"
  }
 },
 "nbformat": 4,
 "nbformat_minor": 4
}
