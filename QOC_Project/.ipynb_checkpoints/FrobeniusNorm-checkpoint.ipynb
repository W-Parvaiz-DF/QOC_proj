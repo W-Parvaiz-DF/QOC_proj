{
 "cells": [
  {
   "cell_type": "code",
   "execution_count": 1,
   "metadata": {},
   "outputs": [],
   "source": [
    "from qutip import *\n",
    "#QuTiP control modules\n",
    "import qutip.control.pulseoptim as cpo\n",
    "import qutip.logging_utils as logging\n",
    "logger = logging.get_logger()\n",
    "#Set this to None or logging.WARN for 'quiet' execution\n",
    "log_level = logging.INFO\n",
    "\n",
    "from qutip.control import * \n",
    "from qutip.ui.progressbar import TextProgressBar\n",
    "from qutip.control.grape import plot_grape_control_fields, _overlap\n",
    "\n",
    "\n",
    "%matplotlib inline\n",
    "import numpy as np\n",
    "import matplotlib.pyplot as plt\n",
    "import datetime\n",
    "import h5py"
   ]
  },
  {
   "cell_type": "code",
   "execution_count": 2,
   "metadata": {
    "tags": []
   },
   "outputs": [
    {
     "name": "stderr",
     "output_type": "stream",
     "text": [
      "C:\\Users\\waqas\\Anaconda3\\envs\\qutip-env\\lib\\site-packages\\ipykernel\\ipkernel.py:287: DeprecationWarning: `should_run_async` will not call `transform_cell` automatically in the future. Please pass the result to `transformed_cell` argument and any exception that happen during thetransform in `preprocessing_exc_tuple` in IPython 7.17 and above.\n",
      "  and should_run_async(code)\n"
     ]
    },
    {
     "data": {
      "text/latex": [
       "Quantum object: dims = [[3], [3]], shape = (3, 3), type = oper, isherm = False\\begin{equation*}\\left(\\begin{array}{*{11}c}(0.974+0.002j) & (0.027+0.222j) & (-0.036+0.009j)\\\\(0.030+0.222j) & (0.892-0.233j) & (0.116+0.295j)\\\\(-0.036+0.010j) & (0.119+0.294j) & (0.830-0.458j)\\\\\\end{array}\\right)\\end{equation*}"
      ],
      "text/plain": [
       "Quantum object: dims = [[3], [3]], shape = (3, 3), type = oper, isherm = False\n",
       "Qobj data =\n",
       "[[ 0.97386906+0.00220554j  0.02694935+0.22244521j -0.03589719+0.00879961j]\n",
       " [ 0.02969902+0.22209468j  0.89159271-0.23321263j  0.11587788+0.29502293j]\n",
       " [-0.03567618+0.00965991j  0.11931038+0.29365146j  0.82969733-0.45800663j]]"
      ]
     },
     "metadata": {},
     "output_type": "display_data"
    }
   ],
   "source": [
    "U_targetsFile = h5py.File(\"U_targets.hdf5\", 'r')\n",
    "#Find a way to do this using rel path to the Results folder \n",
    "#rather than copy paste the file to this directory\n",
    "#Not import rn but do later\n",
    "\n",
    "U_targets = np.array(U_targetsFile[\"U_targets\"])\n",
    "\n",
    "sample = 10\n",
    "\n",
    "U_target_arr = []\n",
    "\n",
    "U_final_pulseoptim = []\n",
    "U_final_cyGRAPE = []\n",
    "\n",
    "# U_test = np.zeros((3,3,sample), dtype='complex') \n",
    "\n",
    "\n",
    "for i in range(sample):\n",
    "    U_target_arr.append(Qobj(U_targets[:,:,i])) #not a good method for memory \n",
    "    \n",
    "    # U_test[:,:,i] = Qobj(U_targets[:,:,i]) #better way but is unfortunatley casting to a complex value instead of a Qobj (dtype = 'object' didnt work either)\n",
    "\n",
    "# display(U_test[:,:,0])\n",
    "display(U_target_arr[0])\n",
    "\n",
    "\n",
    "\n"
   ]
  },
  {
   "cell_type": "code",
   "execution_count": 3,
   "metadata": {
    "tags": []
   },
   "outputs": [
    {
     "name": "stderr",
     "output_type": "stream",
     "text": [
      "C:\\Users\\waqas\\Anaconda3\\envs\\qutip-env\\lib\\site-packages\\ipykernel\\ipkernel.py:287: DeprecationWarning: `should_run_async` will not call `transform_cell` automatically in the future. Please pass the result to `transformed_cell` argument and any exception that happen during thetransform in `preprocessing_exc_tuple` in IPython 7.17 and above.\n",
      "  and should_run_async(code)\n"
     ]
    }
   ],
   "source": [
    "H_drift_matrix = np.array([[0,0,0],\n",
    "                           [0,0.515916, 0],\n",
    "                           [0,0,1]])\n",
    "H_control_matrix = np.array([[0,1/np.sqrt(2), 0],\n",
    "                             [1/np.sqrt(2),0,0],\n",
    "                             [0, 1, 0]])\n",
    "\n",
    "H_drift = Qobj(H_drift_matrix)\n",
    "H_control = [Qobj(H_control_matrix)] \n",
    " \n",
    "# Unitary starting point\n",
    "U_0 = qeye(3)\n",
    "\n"
   ]
  },
  {
   "cell_type": "markdown",
   "metadata": {},
   "source": [
    "# pulseoptim"
   ]
  },
  {
   "cell_type": "code",
   "execution_count": 4,
   "metadata": {
    "tags": []
   },
   "outputs": [
    {
     "name": "stderr",
     "output_type": "stream",
     "text": [
      "C:\\Users\\waqas\\Anaconda3\\envs\\qutip-env\\lib\\site-packages\\ipykernel\\ipkernel.py:287: DeprecationWarning: `should_run_async` will not call `transform_cell` automatically in the future. Please pass the result to `transformed_cell` argument and any exception that happen during thetransform in `preprocessing_exc_tuple` in IPython 7.17 and above.\n",
      "  and should_run_async(code)\n"
     ]
    }
   ],
   "source": [
    "#pulse optim extra params (arbitary values)\n",
    "\n",
    "# Number of time slots\n",
    "n_ts = 10\n",
    "# Time allowed for the evolution\n",
    "evo_time = 1\n",
    "\n",
    "\n",
    "# Fidelity error target\n",
    "fid_err_targ = 1e-10\n",
    "# Maximum iterations for the optisation algorithm\n",
    "max_iter = 200\n",
    "# Maximum (elapsed) time allowed in seconds\n",
    "max_wall_time = 120\n",
    "# Minimum gradient (sum of gradients squared)\n",
    "# as this tends to 0 -> local minima has been found\n",
    "min_grad = 1e-20\n",
    "\n",
    "# pulse type alternatives: RND|ZERO|LIN|SINE|SQUARE|SAW|TRIANGLE|\n",
    "p_type = 'RND' \n"
   ]
  },
  {
   "cell_type": "code",
   "execution_count": 11,
   "metadata": {
    "tags": []
   },
   "outputs": [
    {
     "name": "stderr",
     "output_type": "stream",
     "text": [
      "C:\\Users\\waqas\\Anaconda3\\envs\\qutip-env\\lib\\site-packages\\ipykernel\\ipkernel.py:287: DeprecationWarning: `should_run_async` will not call `transform_cell` automatically in the future. Please pass the result to `transformed_cell` argument and any exception that happen during thetransform in `preprocessing_exc_tuple` in IPython 7.17 and above.\n",
      "  and should_run_async(code)\n",
      "INFO:qutip.control.dynamics:Setting memory optimisations for level 0\n",
      "INFO:qutip.control.dynamics:Internal operator data type choosen to be <class 'numpy.ndarray'>\n",
      "INFO:qutip.control.dynamics:phased dynamics generator caching True\n",
      "INFO:qutip.control.dynamics:propagator gradient caching True\n",
      "INFO:qutip.control.dynamics:eigenvector adjoint caching True\n",
      "INFO:qutip.control.dynamics:use sparse eigen decomp False\n",
      "INFO:qutip.control.pulseoptim:System configuration:\n",
      "Drift Hamiltonian:\n",
      "Quantum object: dims = [[3], [3]], shape = (3, 3), type = oper, isherm = True\n",
      "Qobj data =\n",
      "[[0.       0.       0.      ]\n",
      " [0.       0.515916 0.      ]\n",
      " [0.       0.       1.      ]]\n",
      "Control 1 Hamiltonian:\n",
      "Quantum object: dims = [[3], [3]], shape = (3, 3), type = oper, isherm = False\n",
      "Qobj data =\n",
      "[[0.         0.70710678 0.        ]\n",
      " [0.70710678 0.         0.        ]\n",
      " [0.         1.         0.        ]]\n",
      "Initial state / operator:\n",
      "Quantum object: dims = [[3], [3]], shape = (3, 3), type = oper, isherm = True\n",
      "Qobj data =\n",
      "[[1. 0. 0.]\n",
      " [0. 1. 0.]\n",
      " [0. 0. 1.]]\n",
      "Target state / operator:\n",
      "Quantum object: dims = [[3], [3]], shape = (3, 3), type = oper, isherm = False\n",
      "Qobj data =\n",
      "[[ 0.97386906+0.00220554j  0.02694935+0.22244521j -0.03589719+0.00879961j]\n",
      " [ 0.02969902+0.22209468j  0.89159271-0.23321263j  0.11587788+0.29502293j]\n",
      " [-0.03567618+0.00965991j  0.11931038+0.29365146j  0.82969733-0.45800663j]]\n",
      "INFO:qutip.control.optimizer:Optimising pulse(s) using GRAPE with 'fmin_l_bfgs_b' method\n",
      "INFO:qutip.control.dynamics:Setting memory optimisations for level 0\n",
      "INFO:qutip.control.dynamics:Internal operator data type choosen to be <class 'numpy.ndarray'>\n",
      "INFO:qutip.control.dynamics:phased dynamics generator caching True\n",
      "INFO:qutip.control.dynamics:propagator gradient caching True\n",
      "INFO:qutip.control.dynamics:eigenvector adjoint caching True\n",
      "INFO:qutip.control.dynamics:use sparse eigen decomp False\n",
      "INFO:qutip.control.pulseoptim:System configuration:\n",
      "Drift Hamiltonian:\n",
      "Quantum object: dims = [[3], [3]], shape = (3, 3), type = oper, isherm = True\n",
      "Qobj data =\n",
      "[[0.       0.       0.      ]\n",
      " [0.       0.515916 0.      ]\n",
      " [0.       0.       1.      ]]\n",
      "Control 1 Hamiltonian:\n",
      "Quantum object: dims = [[3], [3]], shape = (3, 3), type = oper, isherm = False\n",
      "Qobj data =\n",
      "[[0.         0.70710678 0.        ]\n",
      " [0.70710678 0.         0.        ]\n",
      " [0.         1.         0.        ]]\n",
      "Initial state / operator:\n",
      "Quantum object: dims = [[3], [3]], shape = (3, 3), type = oper, isherm = True\n",
      "Qobj data =\n",
      "[[1. 0. 0.]\n",
      " [0. 1. 0.]\n",
      " [0. 0. 1.]]\n",
      "Target state / operator:\n",
      "Quantum object: dims = [[3], [3]], shape = (3, 3), type = oper, isherm = False\n",
      "Qobj data =\n",
      "[[ 0.95480052+0.00377096j -0.03527132-0.28811727j -0.06199896+0.01556399j]\n",
      " [-0.03713015-0.28788347j  0.83664336-0.21725262j -0.15148832-0.38160834j]\n",
      " [-0.06179925+0.01634166j -0.15381562-0.38067611j  0.79478607-0.44232946j]]\n",
      "INFO:qutip.control.optimizer:Optimising pulse(s) using GRAPE with 'fmin_l_bfgs_b' method\n",
      "INFO:qutip.control.dynamics:Setting memory optimisations for level 0\n",
      "INFO:qutip.control.dynamics:Internal operator data type choosen to be <class 'numpy.ndarray'>\n",
      "INFO:qutip.control.dynamics:phased dynamics generator caching True\n",
      "INFO:qutip.control.dynamics:propagator gradient caching True\n",
      "INFO:qutip.control.dynamics:eigenvector adjoint caching True\n",
      "INFO:qutip.control.dynamics:use sparse eigen decomp False\n",
      "INFO:qutip.control.pulseoptim:System configuration:\n",
      "Drift Hamiltonian:\n",
      "Quantum object: dims = [[3], [3]], shape = (3, 3), type = oper, isherm = True\n",
      "Qobj data =\n",
      "[[0.       0.       0.      ]\n",
      " [0.       0.515916 0.      ]\n",
      " [0.       0.       1.      ]]\n",
      "Control 1 Hamiltonian:\n",
      "Quantum object: dims = [[3], [3]], shape = (3, 3), type = oper, isherm = False\n",
      "Qobj data =\n",
      "[[0.         0.70710678 0.        ]\n",
      " [0.70710678 0.         0.        ]\n",
      " [0.         1.         0.        ]]\n",
      "Initial state / operator:\n",
      "Quantum object: dims = [[3], [3]], shape = (3, 3), type = oper, isherm = True\n",
      "Qobj data =\n",
      "[[1. 0. 0.]\n",
      " [0. 1. 0.]\n",
      " [0. 0. 1.]]\n",
      "Target state / operator:\n",
      "Quantum object: dims = [[3], [3]], shape = (3, 3), type = oper, isherm = False\n",
      "Qobj data =\n",
      "[[ 0.99598553+2.86784211e-04j  0.01477681+8.81029727e-02j\n",
      "  -0.00538182+1.81238865e-03j]\n",
      " [ 0.00813799+8.89621628e-02j  0.95532878-2.51789895e-01j\n",
      "   0.05086793+1.15675111e-01j]\n",
      " [-0.00558707+1.01394112e-03j  0.04261059+1.18964789e-01j\n",
      "   0.87027496-4.76047237e-01j]]\n"
     ]
    },
    {
     "name": "stdout",
     "output_type": "stream",
     "text": [
      "Final fidelity error 0.003463060879093316\n",
      "Terminated due to function converged\n",
      "0\n",
      "Final fidelity error 0.0020065622115774673\n",
      "Terminated due to function converged\n",
      "1\n"
     ]
    },
    {
     "name": "stderr",
     "output_type": "stream",
     "text": [
      "INFO:qutip.control.optimizer:Optimising pulse(s) using GRAPE with 'fmin_l_bfgs_b' method\n",
      "INFO:qutip.control.dynamics:Setting memory optimisations for level 0\n",
      "INFO:qutip.control.dynamics:Internal operator data type choosen to be <class 'numpy.ndarray'>\n",
      "INFO:qutip.control.dynamics:phased dynamics generator caching True\n",
      "INFO:qutip.control.dynamics:propagator gradient caching True\n",
      "INFO:qutip.control.dynamics:eigenvector adjoint caching True\n",
      "INFO:qutip.control.dynamics:use sparse eigen decomp False\n",
      "INFO:qutip.control.pulseoptim:System configuration:\n",
      "Drift Hamiltonian:\n",
      "Quantum object: dims = [[3], [3]], shape = (3, 3), type = oper, isherm = True\n",
      "Qobj data =\n",
      "[[0.       0.       0.      ]\n",
      " [0.       0.515916 0.      ]\n",
      " [0.       0.       1.      ]]\n",
      "Control 1 Hamiltonian:\n",
      "Quantum object: dims = [[3], [3]], shape = (3, 3), type = oper, isherm = False\n",
      "Qobj data =\n",
      "[[0.         0.70710678 0.        ]\n",
      " [0.70710678 0.         0.        ]\n",
      " [0.         1.         0.        ]]\n",
      "Initial state / operator:\n",
      "Quantum object: dims = [[3], [3]], shape = (3, 3), type = oper, isherm = True\n",
      "Qobj data =\n",
      "[[1. 0. 0.]\n",
      " [0. 1. 0.]\n",
      " [0. 0. 1.]]\n",
      "Target state / operator:\n",
      "Quantum object: dims = [[3], [3]], shape = (3, 3), type = oper, isherm = False\n",
      "Qobj data =\n",
      "[[ 0.96574085+0.00291827j  0.03068994+0.25307394j -0.04704166+0.01161394j]\n",
      " [ 0.03337468+0.25273371j  0.86817712-0.2263722j   0.13223447+0.33548466j]\n",
      " [-0.04679286+0.01258269j  0.1355914 +0.33414186j  0.81477456-0.45139638j]]\n",
      "INFO:qutip.control.optimizer:Optimising pulse(s) using GRAPE with 'fmin_l_bfgs_b' method\n"
     ]
    },
    {
     "name": "stdout",
     "output_type": "stream",
     "text": [
      "Final fidelity error 0.003331787997758129\n",
      "Terminated due to function converged\n",
      "2\n"
     ]
    },
    {
     "name": "stderr",
     "output_type": "stream",
     "text": [
      "INFO:qutip.control.dynamics:Setting memory optimisations for level 0\n",
      "INFO:qutip.control.dynamics:Internal operator data type choosen to be <class 'numpy.ndarray'>\n",
      "INFO:qutip.control.dynamics:phased dynamics generator caching True\n",
      "INFO:qutip.control.dynamics:propagator gradient caching True\n",
      "INFO:qutip.control.dynamics:eigenvector adjoint caching True\n",
      "INFO:qutip.control.dynamics:use sparse eigen decomp False\n",
      "INFO:qutip.control.pulseoptim:System configuration:\n",
      "Drift Hamiltonian:\n",
      "Quantum object: dims = [[3], [3]], shape = (3, 3), type = oper, isherm = True\n",
      "Qobj data =\n",
      "[[0.       0.       0.      ]\n",
      " [0.       0.515916 0.      ]\n",
      " [0.       0.       1.      ]]\n",
      "Control 1 Hamiltonian:\n",
      "Quantum object: dims = [[3], [3]], shape = (3, 3), type = oper, isherm = False\n",
      "Qobj data =\n",
      "[[0.         0.70710678 0.        ]\n",
      " [0.70710678 0.         0.        ]\n",
      " [0.         1.         0.        ]]\n",
      "Initial state / operator:\n",
      "Quantum object: dims = [[3], [3]], shape = (3, 3), type = oper, isherm = True\n",
      "Qobj data =\n",
      "[[1. 0. 0.]\n",
      " [0. 1. 0.]\n",
      " [0. 0. 1.]]\n",
      "Target state / operator:\n",
      "Quantum object: dims = [[3], [3]], shape = (3, 3), type = oper, isherm = False\n",
      "Qobj data =\n",
      "[[ 0.99903037+7.51151050e-05j -0.00452612-4.37715372e-02j\n",
      "  -0.00134363+2.75501703e-04j]\n",
      " [-0.00678371-4.34788936e-02j  0.96411605-2.54300676e-01j\n",
      "  -0.02162216-5.83733793e-02j]\n",
      " [-0.00130939+4.08669362e-04j -0.02442947-5.72553023e-02j\n",
      "   0.87581216-4.78619068e-01j]]\n",
      "INFO:qutip.control.optimizer:Optimising pulse(s) using GRAPE with 'fmin_l_bfgs_b' method\n"
     ]
    },
    {
     "name": "stdout",
     "output_type": "stream",
     "text": [
      "Final fidelity error 0.003179790940759486\n",
      "Terminated due to b'ABNORMAL_TERMINATION_IN_LNSRCH'\n",
      "3\n",
      "Final fidelity error 0.0032617202088722763\n",
      "Terminated due to function converged"
     ]
    },
    {
     "name": "stderr",
     "output_type": "stream",
     "text": [
      "INFO:qutip.control.dynamics:Setting memory optimisations for level 0\n",
      "INFO:qutip.control.dynamics:Internal operator data type choosen to be <class 'numpy.ndarray'>\n",
      "INFO:qutip.control.dynamics:phased dynamics generator caching True\n",
      "INFO:qutip.control.dynamics:propagator gradient caching True\n",
      "INFO:qutip.control.dynamics:eigenvector adjoint caching True\n",
      "INFO:qutip.control.dynamics:use sparse eigen decomp False\n",
      "INFO:qutip.control.pulseoptim:System configuration:\n",
      "Drift Hamiltonian:\n",
      "Quantum object: dims = [[3], [3]], shape = (3, 3), type = oper, isherm = True\n",
      "Qobj data =\n",
      "[[0.       0.       0.      ]\n",
      " [0.       0.515916 0.      ]\n",
      " [0.       0.       1.      ]]\n",
      "Control 1 Hamiltonian:\n",
      "Quantum object: dims = [[3], [3]], shape = (3, 3), type = oper, isherm = False\n",
      "Qobj data =\n",
      "[[0.         0.70710678 0.        ]\n",
      " [0.70710678 0.         0.        ]\n",
      " [0.         1.         0.        ]]\n",
      "Initial state / operator:\n",
      "Quantum object: dims = [[3], [3]], shape = (3, 3), type = oper, isherm = True\n",
      "Qobj data =\n",
      "[[1. 0. 0.]\n",
      " [0. 1. 0.]\n",
      " [0. 0. 1.]]\n",
      "Target state / operator:\n",
      "Quantum object: dims = [[3], [3]], shape = (3, 3), type = oper, isherm = False\n",
      "Qobj data =\n",
      "[[ 0.97626313+0.00199337j -0.02643082-0.21232169j -0.03256082+0.00818768j]\n",
      " [-0.02775655-0.21215239j  0.8984898 -0.23522867j -0.11143128-0.28140282j]\n",
      " [-0.03245946+0.00858217j -0.11308538-0.28074214j  0.83409448-0.45995072j]]\n",
      "INFO:qutip.control.optimizer:Optimising pulse(s) using GRAPE with 'fmin_l_bfgs_b' method\n"
     ]
    },
    {
     "name": "stdout",
     "output_type": "stream",
     "text": [
      "\n",
      "4\n"
     ]
    },
    {
     "name": "stderr",
     "output_type": "stream",
     "text": [
      "INFO:qutip.control.dynamics:Setting memory optimisations for level 0\n",
      "INFO:qutip.control.dynamics:Internal operator data type choosen to be <class 'numpy.ndarray'>\n",
      "INFO:qutip.control.dynamics:phased dynamics generator caching True\n",
      "INFO:qutip.control.dynamics:propagator gradient caching True\n",
      "INFO:qutip.control.dynamics:eigenvector adjoint caching True\n",
      "INFO:qutip.control.dynamics:use sparse eigen decomp False\n",
      "INFO:qutip.control.pulseoptim:System configuration:\n",
      "Drift Hamiltonian:\n",
      "Quantum object: dims = [[3], [3]], shape = (3, 3), type = oper, isherm = True\n",
      "Qobj data =\n",
      "[[0.       0.       0.      ]\n",
      " [0.       0.515916 0.      ]\n",
      " [0.       0.       1.      ]]\n",
      "Control 1 Hamiltonian:\n",
      "Quantum object: dims = [[3], [3]], shape = (3, 3), type = oper, isherm = False\n",
      "Qobj data =\n",
      "[[0.         0.70710678 0.        ]\n",
      " [0.70710678 0.         0.        ]\n",
      " [0.         1.         0.        ]]\n",
      "Initial state / operator:\n",
      "Quantum object: dims = [[3], [3]], shape = (3, 3), type = oper, isherm = True\n",
      "Qobj data =\n",
      "[[1. 0. 0.]\n",
      " [0. 1. 0.]\n",
      " [0. 0. 1.]]\n",
      "Target state / operator:\n",
      "Quantum object: dims = [[3], [3]], shape = (3, 3), type = oper, isherm = False\n",
      "Qobj data =\n",
      "[[ 0.95407852+0.00388089j  0.0353526 +0.29026138j -0.06300384+0.015753j  ]\n",
      " [ 0.03751248+0.28998996j  0.83457442-0.21660366j  0.1524466 +0.38448282j]\n",
      " [-0.06276976+0.01666462j  0.15515247+0.38339875j  0.79341678-0.44182026j]]\n",
      "INFO:qutip.control.optimizer:Optimising pulse(s) using GRAPE with 'fmin_l_bfgs_b' method\n"
     ]
    },
    {
     "name": "stdout",
     "output_type": "stream",
     "text": [
      "Final fidelity error 0.002039764943435385\n",
      "Terminated due to function converged\n",
      "5\n"
     ]
    },
    {
     "name": "stderr",
     "output_type": "stream",
     "text": [
      "INFO:qutip.control.dynamics:Setting memory optimisations for level 0\n",
      "INFO:qutip.control.dynamics:Internal operator data type choosen to be <class 'numpy.ndarray'>\n",
      "INFO:qutip.control.dynamics:phased dynamics generator caching True\n",
      "INFO:qutip.control.dynamics:propagator gradient caching True\n",
      "INFO:qutip.control.dynamics:eigenvector adjoint caching True\n",
      "INFO:qutip.control.dynamics:use sparse eigen decomp False\n",
      "INFO:qutip.control.pulseoptim:System configuration:\n",
      "Drift Hamiltonian:\n",
      "Quantum object: dims = [[3], [3]], shape = (3, 3), type = oper, isherm = True\n",
      "Qobj data =\n",
      "[[0.       0.       0.      ]\n",
      " [0.       0.515916 0.      ]\n",
      " [0.       0.       1.      ]]\n",
      "Control 1 Hamiltonian:\n",
      "Quantum object: dims = [[3], [3]], shape = (3, 3), type = oper, isherm = False\n",
      "Qobj data =\n",
      "[[0.         0.70710678 0.        ]\n",
      " [0.70710678 0.         0.        ]\n",
      " [0.         1.         0.        ]]\n",
      "Initial state / operator:\n",
      "Quantum object: dims = [[3], [3]], shape = (3, 3), type = oper, isherm = True\n",
      "Qobj data =\n",
      "[[1. 0. 0.]\n",
      " [0. 1. 0.]\n",
      " [0. 0. 1.]]\n",
      "Target state / operator:\n",
      "Quantum object: dims = [[3], [3]], shape = (3, 3), type = oper, isherm = False\n",
      "Qobj data =\n",
      "[[ 0.99228451+0.000642j   -0.01396684-0.1227064j  -0.01064279+0.0024179j ]\n",
      " [-0.01764447-0.12223172j  0.94466807-0.24865353j -0.06239176-0.16318396j]\n",
      " [-0.0104846 +0.00303339j -0.06696936-0.16135931j  0.86345375-0.47308219j]]\n",
      "INFO:qutip.control.optimizer:Optimising pulse(s) using GRAPE with 'fmin_l_bfgs_b' method\n"
     ]
    },
    {
     "name": "stdout",
     "output_type": "stream",
     "text": [
      "Final fidelity error 0.0030250596428745835\n",
      "Terminated due to function converged\n",
      "6\n"
     ]
    },
    {
     "name": "stderr",
     "output_type": "stream",
     "text": [
      "INFO:qutip.control.dynamics:Setting memory optimisations for level 0\n",
      "INFO:qutip.control.dynamics:Internal operator data type choosen to be <class 'numpy.ndarray'>\n",
      "INFO:qutip.control.dynamics:phased dynamics generator caching True\n",
      "INFO:qutip.control.dynamics:propagator gradient caching True\n",
      "INFO:qutip.control.dynamics:eigenvector adjoint caching True\n",
      "INFO:qutip.control.dynamics:use sparse eigen decomp False\n",
      "INFO:qutip.control.pulseoptim:System configuration:\n",
      "Drift Hamiltonian:\n",
      "Quantum object: dims = [[3], [3]], shape = (3, 3), type = oper, isherm = True\n",
      "Qobj data =\n",
      "[[0.       0.       0.      ]\n",
      " [0.       0.515916 0.      ]\n",
      " [0.       0.       1.      ]]\n",
      "Control 1 Hamiltonian:\n",
      "Quantum object: dims = [[3], [3]], shape = (3, 3), type = oper, isherm = False\n",
      "Qobj data =\n",
      "[[0.         0.70710678 0.        ]\n",
      " [0.70710678 0.         0.        ]\n",
      " [0.         1.         0.        ]]\n",
      "Initial state / operator:\n",
      "Quantum object: dims = [[3], [3]], shape = (3, 3), type = oper, isherm = True\n",
      "Qobj data =\n",
      "[[1. 0. 0.]\n",
      " [0. 1. 0.]\n",
      " [0. 0. 1.]]\n",
      "Target state / operator:\n",
      "Quantum object: dims = [[3], [3]], shape = (3, 3), type = oper, isherm = False\n",
      "Qobj data =\n",
      "[[ 0.96517955+0.00293331j  0.03245897+0.25483497j -0.04767133+0.01236258j]\n",
      " [ 0.03209133+0.25488155j  0.86655297-0.22592945j  0.13517923+0.33730393j]\n",
      " [-0.04770569+0.0122288j   0.13471965+0.33748777j  0.81377587-0.45088364j]]\n",
      "INFO:qutip.control.optimizer:Optimising pulse(s) using GRAPE with 'fmin_l_bfgs_b' method\n",
      "INFO:qutip.control.dynamics:Setting memory optimisations for level 0\n",
      "INFO:qutip.control.dynamics:Internal operator data type choosen to be <class 'numpy.ndarray'>\n",
      "INFO:qutip.control.dynamics:phased dynamics generator caching True\n",
      "INFO:qutip.control.dynamics:propagator gradient caching True\n",
      "INFO:qutip.control.dynamics:eigenvector adjoint caching True\n",
      "INFO:qutip.control.dynamics:use sparse eigen decomp False\n",
      "INFO:qutip.control.pulseoptim:System configuration:\n",
      "Drift Hamiltonian:\n",
      "Quantum object: dims = [[3], [3]], shape = (3, 3), type = oper, isherm = True\n",
      "Qobj data =\n",
      "[[0.       0.       0.      ]\n",
      " [0.       0.515916 0.      ]\n",
      " [0.       0.       1.      ]]\n",
      "Control 1 Hamiltonian:\n",
      "Quantum object: dims = [[3], [3]], shape = (3, 3), type = oper, isherm = False\n",
      "Qobj data =\n",
      "[[0.         0.70710678 0.        ]\n",
      " [0.70710678 0.         0.        ]\n",
      " [0.         1.         0.        ]]\n",
      "Initial state / operator:\n",
      "Quantum object: dims = [[3], [3]], shape = (3, 3), type = oper, isherm = True\n",
      "Qobj data =\n",
      "[[1. 0. 0.]\n",
      " [0. 1. 0.]\n",
      " [0. 0. 1.]]\n",
      "Target state / operator:\n",
      "Quantum object: dims = [[3], [3]], shape = (3, 3), type = oper, isherm = False\n",
      "Qobj data =\n",
      "[[ 0.99815796+1.57341702e-04j  0.00685347+6.02236997e-02j\n",
      "  -0.00254152+5.75138633e-04j]\n",
      " [ 0.00871841+5.99821006e-02j  0.96160258-2.53562835e-01j\n",
      "   0.03056688+8.01134381e-02j]\n",
      " [-0.00250252+7.26914187e-04j  0.03288637+7.91895345e-02j\n",
      "   0.8742057 -4.77917453e-01j]]\n",
      "INFO:qutip.control.optimizer:Optimising pulse(s) using GRAPE with 'fmin_l_bfgs_b' method\n"
     ]
    },
    {
     "name": "stdout",
     "output_type": "stream",
     "text": [
      "Final fidelity error 0.0022777435304393023\n",
      "Terminated due to function converged\n",
      "7\n",
      "Final fidelity error 0.0031948952816897025\n",
      "Terminated due to function converged\n",
      "8\n",
      "Final fidelity error 0.0019425555154172214\n",
      "Terminated due to function converged\n",
      "9\n"
     ]
    }
   ],
   "source": [
    "for i in range(sample):\n",
    "    result = cpo.optimize_pulse_unitary(H_drift, H_control, U_0, U_target_arr[i], n_ts, evo_time, \n",
    "                fid_err_targ=fid_err_targ, min_grad=min_grad, \n",
    "                max_iter=max_iter, max_wall_time=max_wall_time, \n",
    "                log_level=log_level,\n",
    "                init_pulse_type=p_type, \n",
    "                gen_stats=True)\n",
    "    print(\"Final fidelity error {}\".format(result.fid_err))\n",
    "    #print(\"Final fidelity {}\".format(result.fidelity)) #?? this always gives 0.0 even though the fid_err is never 1.0\n",
    "    # print(\"Final gradient normal {}\".format(result.grad_norm_final))\n",
    "    print(\"Terminated due to {}\".format(result.termination_reason))\n",
    "   \n",
    "    #Here all terminate due to convergence however if it terminates due to a different reason may cause a problem\n",
    "    U_final_pulseoptim.append(result.evo_full_final)\n",
    "    print(i)\n",
    "    \n",
    "\n",
    "#display(U_final_pulseoptim)\n"
   ]
  },
  {
   "cell_type": "code",
   "execution_count": 6,
   "metadata": {},
   "outputs": [
    {
     "name": "stderr",
     "output_type": "stream",
     "text": [
      "C:\\Users\\waqas\\Anaconda3\\envs\\qutip-env\\lib\\site-packages\\ipykernel\\ipkernel.py:287: DeprecationWarning: `should_run_async` will not call `transform_cell` automatically in the future. Please pass the result to `transformed_cell` argument and any exception that happen during thetransform in `preprocessing_exc_tuple` in IPython 7.17 and above.\n",
      "  and should_run_async(code)\n"
     ]
    }
   ],
   "source": [
    "# cy_grape params\n",
    "times = np.linspace(0,evo_time,n_ts)\n",
    "n_iterations = 100\n",
    "\n"
   ]
  },
  {
   "cell_type": "code",
   "execution_count": 7,
   "metadata": {
    "tags": []
   },
   "outputs": [
    {
     "name": "stdout",
     "output_type": "stream",
     "text": [
      "0\n"
     ]
    },
    {
     "name": "stderr",
     "output_type": "stream",
     "text": [
      "C:\\Users\\waqas\\Anaconda3\\envs\\qutip-env\\lib\\site-packages\\ipykernel\\ipkernel.py:287: DeprecationWarning: `should_run_async` will not call `transform_cell` automatically in the future. Please pass the result to `transformed_cell` argument and any exception that happen during thetransform in `preprocessing_exc_tuple` in IPython 7.17 and above.\n",
      "  and should_run_async(code)\n"
     ]
    },
    {
     "name": "stdout",
     "output_type": "stream",
     "text": [
      "10.0%. Run time:   0.59s. Est. time left: 00:00:00:05\n",
      "20.0%. Run time:   1.05s. Est. time left: 00:00:00:04\n",
      "30.0%. Run time:   1.59s. Est. time left: 00:00:00:03\n",
      "40.0%. Run time:   2.09s. Est. time left: 00:00:00:03\n",
      "50.0%. Run time:   2.60s. Est. time left: 00:00:00:02\n",
      "60.0%. Run time:   3.16s. Est. time left: 00:00:00:02\n",
      "70.0%. Run time:   3.55s. Est. time left: 00:00:00:01\n",
      "80.0%. Run time:   4.12s. Est. time left: 00:00:00:01\n",
      "90.0%. Run time:   4.68s. Est. time left: 00:00:00:00\n",
      "Total run time:   5.22s\n",
      "1\n",
      "10.0%. Run time:   0.47s. Est. time left: 00:00:00:04\n",
      "20.0%. Run time:   1.04s. Est. time left: 00:00:00:04\n",
      "30.0%. Run time:   1.54s. Est. time left: 00:00:00:03\n",
      "40.0%. Run time:   1.92s. Est. time left: 00:00:00:02\n",
      "50.0%. Run time:   2.31s. Est. time left: 00:00:00:02\n",
      "60.0%. Run time:   2.69s. Est. time left: 00:00:00:01\n",
      "70.0%. Run time:   3.10s. Est. time left: 00:00:00:01\n",
      "80.0%. Run time:   3.52s. Est. time left: 00:00:00:00\n",
      "90.0%. Run time:   3.83s. Est. time left: 00:00:00:00\n",
      "Total run time:   4.15s\n",
      "2\n",
      "10.0%. Run time:   0.34s. Est. time left: 00:00:00:03\n",
      "20.0%. Run time:   0.70s. Est. time left: 00:00:00:02\n",
      "30.0%. Run time:   1.08s. Est. time left: 00:00:00:02\n",
      "40.0%. Run time:   1.40s. Est. time left: 00:00:00:02\n",
      "50.0%. Run time:   1.73s. Est. time left: 00:00:00:01\n",
      "60.0%. Run time:   2.08s. Est. time left: 00:00:00:01\n",
      "70.0%. Run time:   2.41s. Est. time left: 00:00:00:01\n",
      "80.0%. Run time:   2.76s. Est. time left: 00:00:00:00\n",
      "90.0%. Run time:   3.11s. Est. time left: 00:00:00:00\n",
      "Total run time:   3.41s\n",
      "3\n",
      "10.0%. Run time:   0.37s. Est. time left: 00:00:00:03\n",
      "20.0%. Run time:   0.71s. Est. time left: 00:00:00:02\n",
      "30.0%. Run time:   1.09s. Est. time left: 00:00:00:02\n",
      "40.0%. Run time:   1.41s. Est. time left: 00:00:00:02\n",
      "50.0%. Run time:   1.72s. Est. time left: 00:00:00:01\n",
      "60.0%. Run time:   2.03s. Est. time left: 00:00:00:01\n",
      "70.0%. Run time:   2.35s. Est. time left: 00:00:00:01\n",
      "80.0%. Run time:   2.66s. Est. time left: 00:00:00:00\n",
      "90.0%. Run time:   3.00s. Est. time left: 00:00:00:00\n",
      "Total run time:   3.30s\n",
      "4\n",
      "10.0%. Run time:   0.35s. Est. time left: 00:00:00:03\n",
      "20.0%. Run time:   0.71s. Est. time left: 00:00:00:02\n",
      "30.0%. Run time:   1.11s. Est. time left: 00:00:00:02\n",
      "40.0%. Run time:   1.38s. Est. time left: 00:00:00:02\n",
      "50.0%. Run time:   1.64s. Est. time left: 00:00:00:01\n",
      "60.0%. Run time:   1.90s. Est. time left: 00:00:00:01\n",
      "70.0%. Run time:   2.16s. Est. time left: 00:00:00:00\n",
      "80.0%. Run time:   2.42s. Est. time left: 00:00:00:00\n",
      "90.0%. Run time:   2.74s. Est. time left: 00:00:00:00\n",
      "Total run time:   2.95s\n",
      "5\n",
      "10.0%. Run time:   0.27s. Est. time left: 00:00:00:02\n",
      "20.0%. Run time:   0.53s. Est. time left: 00:00:00:02\n",
      "30.0%. Run time:   0.77s. Est. time left: 00:00:00:01\n",
      "40.0%. Run time:   1.02s. Est. time left: 00:00:00:01\n",
      "50.0%. Run time:   1.29s. Est. time left: 00:00:00:01\n",
      "60.0%. Run time:   1.54s. Est. time left: 00:00:00:01\n",
      "70.0%. Run time:   1.80s. Est. time left: 00:00:00:00\n",
      "80.0%. Run time:   2.04s. Est. time left: 00:00:00:00\n",
      "90.0%. Run time:   2.29s. Est. time left: 00:00:00:00\n",
      "Total run time:   2.53s\n",
      "6\n",
      "10.0%. Run time:   0.24s. Est. time left: 00:00:00:02\n",
      "20.0%. Run time:   0.50s. Est. time left: 00:00:00:02\n",
      "30.0%. Run time:   0.80s. Est. time left: 00:00:00:01\n",
      "40.0%. Run time:   1.12s. Est. time left: 00:00:00:01\n",
      "50.0%. Run time:   1.39s. Est. time left: 00:00:00:01\n",
      "60.0%. Run time:   1.69s. Est. time left: 00:00:00:01\n",
      "70.0%. Run time:   2.03s. Est. time left: 00:00:00:00\n",
      "80.0%. Run time:   2.35s. Est. time left: 00:00:00:00\n",
      "90.0%. Run time:   2.65s. Est. time left: 00:00:00:00\n",
      "Total run time:   2.95s\n",
      "7\n",
      "10.0%. Run time:   0.29s. Est. time left: 00:00:00:02\n",
      "20.0%. Run time:   0.57s. Est. time left: 00:00:00:02\n",
      "30.0%. Run time:   0.82s. Est. time left: 00:00:00:01\n",
      "40.0%. Run time:   1.07s. Est. time left: 00:00:00:01\n",
      "50.0%. Run time:   1.34s. Est. time left: 00:00:00:01\n",
      "60.0%. Run time:   1.60s. Est. time left: 00:00:00:01\n",
      "70.0%. Run time:   1.86s. Est. time left: 00:00:00:00\n",
      "80.0%. Run time:   2.12s. Est. time left: 00:00:00:00\n",
      "90.0%. Run time:   2.41s. Est. time left: 00:00:00:00\n",
      "Total run time:   2.66s\n",
      "8\n",
      "10.0%. Run time:   0.26s. Est. time left: 00:00:00:02\n",
      "20.0%. Run time:   0.63s. Est. time left: 00:00:00:02\n",
      "30.0%. Run time:   0.93s. Est. time left: 00:00:00:02\n",
      "40.0%. Run time:   1.20s. Est. time left: 00:00:00:01\n",
      "50.0%. Run time:   1.46s. Est. time left: 00:00:00:01\n",
      "60.0%. Run time:   1.77s. Est. time left: 00:00:00:01\n",
      "70.0%. Run time:   2.04s. Est. time left: 00:00:00:00\n",
      "80.0%. Run time:   2.30s. Est. time left: 00:00:00:00\n",
      "90.0%. Run time:   2.54s. Est. time left: 00:00:00:00\n",
      "Total run time:   2.79s\n",
      "9\n",
      "10.0%. Run time:   0.30s. Est. time left: 00:00:00:02\n",
      "20.0%. Run time:   0.59s. Est. time left: 00:00:00:02\n",
      "30.0%. Run time:   0.87s. Est. time left: 00:00:00:02\n",
      "40.0%. Run time:   1.13s. Est. time left: 00:00:00:01\n",
      "50.0%. Run time:   1.38s. Est. time left: 00:00:00:01\n",
      "60.0%. Run time:   1.64s. Est. time left: 00:00:00:01\n",
      "70.0%. Run time:   1.90s. Est. time left: 00:00:00:00\n",
      "80.0%. Run time:   2.19s. Est. time left: 00:00:00:00\n",
      "90.0%. Run time:   2.50s. Est. time left: 00:00:00:00\n",
      "Total run time:   2.78s\n"
     ]
    }
   ],
   "source": [
    "for i in range(sample):\n",
    "    print(i)\n",
    "    result = cy_grape_unitary(U_target_arr[i], H_drift, H_control, n_iterations, times, eps=2*np.pi/times[-1], phase_sensitive=False\n",
    "                           ,progress_bar=TextProgressBar())\n",
    "    U_final_cyGRAPE.append(result.U_f)\n",
    "#display(U_final_cyGRAPE)"
   ]
  },
  {
   "cell_type": "markdown",
   "metadata": {},
   "source": [
    "# Comparing fidelity "
   ]
  },
  {
   "cell_type": "code",
   "execution_count": 8,
   "metadata": {},
   "outputs": [
    {
     "name": "stdout",
     "output_type": "stream",
     "text": [
      "0\n",
      "1\n",
      "2\n",
      "3\n",
      "4\n",
      "5\n",
      "6\n",
      "7\n",
      "8\n",
      "9\n"
     ]
    },
    {
     "name": "stderr",
     "output_type": "stream",
     "text": [
      "C:\\Users\\waqas\\Anaconda3\\envs\\qutip-env\\lib\\site-packages\\ipykernel\\ipkernel.py:287: DeprecationWarning: `should_run_async` will not call `transform_cell` automatically in the future. Please pass the result to `transformed_cell` argument and any exception that happen during thetransform in `preprocessing_exc_tuple` in IPython 7.17 and above.\n",
      "  and should_run_async(code)\n"
     ]
    },
    {
     "data": {
      "text/plain": [
       "[0.9967132757456837,\n",
       " 0.997925492255028,\n",
       " 0.9967519887812513,\n",
       " 0.998161938615121,\n",
       " 0.9974692569217868,\n",
       " 0.9971887636428678,\n",
       " 0.9971370488431321,\n",
       " 0.9975765841064524,\n",
       " 0.9974867813586594,\n",
       " 0.9969925709746956]"
      ]
     },
     "metadata": {},
     "output_type": "display_data"
    },
    {
     "data": {
      "text/plain": [
       "[0.9961130027538001,\n",
       " 1.0073433151510187,\n",
       " 0.9819694005112898,\n",
       " 1.0010153687444372,\n",
       " 0.9799220302829224,\n",
       " 0.9946415055145919,\n",
       " 1.0077622978459935,\n",
       " 0.9844172191596336,\n",
       " 1.0013495685296308,\n",
       " 0.9805122887282619]"
      ]
     },
     "metadata": {},
     "output_type": "display_data"
    }
   ],
   "source": [
    "pulseoptim_fidelity = []\n",
    "cy_grape_fidelity = []\n",
    "\n",
    "\n",
    "for i in range(sample):\n",
    "    print(i)\n",
    "    pulseoptim_fidelity.append(abs(_overlap(U_target_arr[i], U_final_pulseoptim[i])))\n",
    "    cy_grape_fidelity.append(abs(_overlap(U_target_arr[i], U_final_cyGRAPE[i])))\n",
    "    \n",
    "display(pulseoptim_fidelity)\n",
    "display(cy_grape_fidelity)"
   ]
  },
  {
   "cell_type": "code",
   "execution_count": 10,
   "metadata": {},
   "outputs": [
    {
     "name": "stderr",
     "output_type": "stream",
     "text": [
      "C:\\Users\\waqas\\Anaconda3\\envs\\qutip-env\\lib\\site-packages\\ipykernel\\ipkernel.py:287: DeprecationWarning: `should_run_async` will not call `transform_cell` automatically in the future. Please pass the result to `transformed_cell` argument and any exception that happen during thetransform in `preprocessing_exc_tuple` in IPython 7.17 and above.\n",
      "  and should_run_async(code)\n"
     ]
    },
    {
     "data": {
      "image/png": "[encoded data removed]",
      "text/plain": [
       "<Figure size 432x288 with 1 Axes>"
      ]
     },
     "metadata": {
      "needs_background": "light"
     },
     "output_type": "display_data"
    }
   ],
   "source": [
    "# Plots\n",
    "\n",
    "sample_arr = np.arange(0,sample)\n",
    "plt.xlabel('Target Unitary iteration', fontsize=18)\n",
    "plt.ylabel('Fidelity', fontsize=18)\n",
    "plt.plot(sample_arr, pulseoptim_fidelity, label='pulseoptim', linewidth = 2.5)\n",
    "plt.plot(sample_arr, cy_grape_fidelity, label='cy_grape', linewidth = 2.5)\n",
    "plt.plot(sample_arr, np.ones(10), 'r--', label ='Max fidelity' ,linewidth = 2.5)\n",
    "plt.legend(fontsize=12)\n",
    "plt.show()\n"
   ]
  },
  {
   "cell_type": "markdown",
   "metadata": {},
   "source": [
    "# Conclusion\n",
    "\n",
    "The method from the pulseoptim module appears to be more suitable option as the value of the fidelity is always below the maxium possible value, and does not vary as much as the fidelity calculated from the cy_grape_unitary method. Furthermore, the runtime for the cy_grape module is significantly larger ( ~ 3 - 5  seconds per unitary) then for the pulseoptim method (~ 0.1 second per unitary).\n",
    "\n",
    "Note: running for a larger smaple size, the pulseoptim method terminated the calculation due to 'ABNORMAL_TERMINATION_IN_LNSRCH' instead of 'function convergence'. (https://stackoverflow.com/questions/34663539/scipy-optimize-fmin-l-bfgs-b-returns-abnormal-termination-in-lnsrch/39155976#39155976). \n",
    "\n"
   ]
  }
 ],
 "metadata": {
  "kernelspec": {
   "display_name": "Python 3 (ipykernel)",
   "language": "python",
   "name": "python3"
  },
  "language_info": {
   "codemirror_mode": {
    "name": "ipython",
    "version": 3
   },
   "file_extension": ".py",
   "mimetype": "text/x-python",
   "name": "python",
   "nbconvert_exporter": "python",
   "pygments_lexer": "ipython3",
   "version": "3.10.6"
  }
 },
 "nbformat": 4,
 "nbformat_minor": 4
}
